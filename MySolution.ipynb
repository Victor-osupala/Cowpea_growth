{
 "cells": [
  {
   "cell_type": "code",
   "execution_count": 1,
   "id": "c16eda20-889d-404c-af3a-6d42af4e7018",
   "metadata": {},
   "outputs": [
    {
     "name": "stdout",
     "output_type": "stream",
     "text": [
      "Encoders saved to: label_encoders.pkl\n",
      "Model saved to: gradient_boosting_model.pkl\n",
      "Metrics for SEEDS:\n",
      "  Mean Squared Error: 32864.9676\n",
      "  R2 Score: 0.2863\n",
      "Metrics for SEEDKGHA:\n",
      "  Mean Squared Error: 73942.9926\n",
      "  R2 Score: 0.1098\n",
      "Metrics for DFF:\n",
      "  Mean Squared Error: 33.9587\n",
      "  R2 Score: 0.4437\n",
      "Metrics for MATURE:\n",
      "  Mean Squared Error: 92.6684\n",
      "  R2 Score: 0.3942\n"
     ]
    }
   ],
   "source": [
    "import pandas as pd\n",
    "import pickle\n",
    "import matplotlib.pyplot as plt\n",
    "from sklearn.model_selection import train_test_split\n",
    "from sklearn.ensemble import GradientBoostingRegressor\n",
    "from sklearn.multioutput import MultiOutputRegressor\n",
    "from sklearn.metrics import mean_squared_error, r2_score\n",
    "from sklearn.preprocessing import LabelEncoder\n",
    "\n",
    "# Step 1: Load the cleaned dataset\n",
    "data_cleaned = pd.read_csv('cleaned_dataset.csv')\n",
    "\n",
    "# Step 2: Define feature and target columns\n",
    "feature_columns = ['REP', 'VARIETY', 'GID']  # Predictor columns\n",
    "target_columns = [col for col in data_cleaned.columns if col not in feature_columns]\n",
    "\n",
    "# Step 3: Encode categorical features (REP, VARIETY, GID)\n",
    "label_encoders_features = {}\n",
    "for col in feature_columns:\n",
    "    le = LabelEncoder()\n",
    "    data_cleaned[col] = le.fit_transform(data_cleaned[col])  # Encode features\n",
    "    label_encoders_features[col] = le\n",
    "\n",
    "# Save the label encoders\n",
    "encoders_file_path = 'label_encoders.pkl'\n",
    "with open(encoders_file_path, 'wb') as f:\n",
    "    pickle.dump(label_encoders_features, f)\n",
    "\n",
    "print(f\"Encoders saved to: {encoders_file_path}\")\n",
    "\n",
    "X = data_cleaned[feature_columns]\n",
    "y = data_cleaned[target_columns]\n",
    "\n",
    "# Step 4: Split data into training and testing sets\n",
    "X_train, X_test, y_train, y_test = train_test_split(X, y, test_size=0.2, random_state=42)\n",
    "\n",
    "# Step 5: Train the model using GradientBoostingRegressor for regression tasks\n",
    "regressor = MultiOutputRegressor(GradientBoostingRegressor(random_state=42))\n",
    "regressor.fit(X_train, y_train)\n",
    "\n",
    "# Step 6: Save the trained model using pickle\n",
    "model_file_path = 'gradient_boosting_model.pkl'\n",
    "with open(model_file_path, 'wb') as f:\n",
    "    pickle.dump(regressor, f)\n",
    "\n",
    "print(f\"Model saved to: {model_file_path}\")\n",
    "\n",
    "# Step 7: Evaluate the model\n",
    "y_pred = regressor.predict(X_test)\n",
    "\n",
    "# Calculate evaluation metrics\n",
    "metrics = []\n",
    "for i, col in enumerate(target_columns):\n",
    "    mse = mean_squared_error(y_test.iloc[:, i], y_pred[:, i])\n",
    "    r2 = r2_score(y_test.iloc[:, i], y_pred[:, i])\n",
    "    metrics.append((col, mse, r2))\n",
    "    print(f\"Metrics for {col}:\")\n",
    "    print(f\"  Mean Squared Error: {mse:.4f}\")\n",
    "    print(f\"  R2 Score: {r2:.4f}\")\n"
   ]
  },
  {
   "cell_type": "code",
   "execution_count": 13,
   "id": "aa07a63b-d032-4baa-bb8d-541c62178ca8",
   "metadata": {},
   "outputs": [
    {
     "name": "stdout",
     "output_type": "stream",
     "text": [
      "Note: you may need to restart the kernel to use updated packages.\n"
     ]
    },
    {
     "name": "stderr",
     "output_type": "stream",
     "text": [
      "Traceback (most recent call last):\n",
      "  File \"<frozen runpy>\", line 198, in _run_module_as_main\n",
      "  File \"<frozen runpy>\", line 88, in _run_code\n",
      "  File \"C:\\ProgramData\\anaconda3\\Lib\\site-packages\\pip\\__main__.py\", line 22, in <module>\n",
      "    from pip._internal.cli.main import main as _main\n",
      "  File \"C:\\ProgramData\\anaconda3\\Lib\\site-packages\\pip\\_internal\\cli\\main.py\", line 10, in <module>\n",
      "    from pip._internal.cli.autocompletion import autocomplete\n",
      "  File \"C:\\ProgramData\\anaconda3\\Lib\\site-packages\\pip\\_internal\\cli\\autocompletion.py\", line 10, in <module>\n",
      "    from pip._internal.cli.main_parser import create_main_parser\n",
      "  File \"C:\\ProgramData\\anaconda3\\Lib\\site-packages\\pip\\_internal\\cli\\main_parser.py\", line 9, in <module>\n",
      "    from pip._internal.build_env import get_runnable_pip\n",
      "  File \"C:\\ProgramData\\anaconda3\\Lib\\site-packages\\pip\\_internal\\build_env.py\", line 19, in <module>\n",
      "    from pip._internal.cli.spinners import open_spinner\n",
      "  File \"C:\\ProgramData\\anaconda3\\Lib\\site-packages\\pip\\_internal\\cli\\spinners.py\", line 9, in <module>\n",
      "    from pip._internal.utils.logging import get_indentation\n",
      "  File \"C:\\ProgramData\\anaconda3\\Lib\\site-packages\\pip\\_internal\\utils\\logging.py\", line 29, in <module>\n",
      "    from pip._internal.utils.misc import ensure_dir\n",
      "  File \"C:\\ProgramData\\anaconda3\\Lib\\site-packages\\pip\\_internal\\utils\\misc.py\", line 40, in <module>\n",
      "    from pip._vendor.tenacity import retry, stop_after_delay, wait_fixed\n",
      "  File \"C:\\ProgramData\\anaconda3\\Lib\\site-packages\\pip\\_vendor\\tenacity\\__init__.py\", line 548, in <module>\n",
      "    from pip._vendor.tenacity._asyncio import AsyncRetrying  # noqa:E402,I100\n",
      "    ^^^^^^^^^^^^^^^^^^^^^^^^^^^^^^^^^^^^^^^^^^^^^^^^^^^^^^^\n",
      "  File \"C:\\ProgramData\\anaconda3\\Lib\\site-packages\\pip\\_vendor\\tenacity\\_asyncio.py\", line 21, in <module>\n",
      "    from asyncio import sleep\n",
      "  File \"C:\\ProgramData\\anaconda3\\Lib\\asyncio\\__init__.py\", line 43, in <module>\n",
      "    from .windows_events import *\n",
      "  File \"C:\\ProgramData\\anaconda3\\Lib\\asyncio\\windows_events.py\", line 8, in <module>\n",
      "    import _overlapped\n",
      "OSError: [WinError 10106] The requested service provider could not be loaded or initialized\n"
     ]
    }
   ],
   "source": [
    "pip show sklearn"
   ]
  },
  {
   "cell_type": "code",
   "execution_count": 17,
   "id": "380d3abc-aaeb-43c2-b358-be45ce1cb17e",
   "metadata": {},
   "outputs": [
    {
     "name": "stdout",
     "output_type": "stream",
     "text": [
      "Name: scikit-learn\n",
      "Version: 1.4.2\n",
      "Summary: A set of python modules for machine learning and data mining\n",
      "Home-page: https://scikit-learn.org\n",
      "Author: \n",
      "Author-email: \n",
      "License: new BSD\n",
      "Location: C:\\ProgramData\\anaconda3\\Lib\\site-packages\n",
      "Requires: joblib, numpy, scipy, threadpoolctl\n",
      "Required-by: imbalanced-learn, librosa\n"
     ]
    }
   ],
   "source": [
    "!pip show scikit-learn\n"
   ]
  },
  {
   "cell_type": "code",
   "execution_count": null,
   "id": "1ad0cb7b-4ca2-4398-8436-1b1bc26974bd",
   "metadata": {},
   "outputs": [],
   "source": []
  }
 ],
 "metadata": {
  "kernelspec": {
   "display_name": "Python 3 (ipykernel)",
   "language": "python",
   "name": "python3"
  },
  "language_info": {
   "codemirror_mode": {
    "name": "ipython",
    "version": 3
   },
   "file_extension": ".py",
   "mimetype": "text/x-python",
   "name": "python",
   "nbconvert_exporter": "python",
   "pygments_lexer": "ipython3",
   "version": "3.12.4"
  }
 },
 "nbformat": 4,
 "nbformat_minor": 5
}
